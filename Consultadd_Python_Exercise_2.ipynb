{
  "cells": [
    {
      "cell_type": "markdown",
      "metadata": {
        "id": "view-in-github",
        "colab_type": "text"
      },
      "source": [
        "<a href=\"https://colab.research.google.com/github/vishesh-07/Consultadd-Python-Assignments/blob/day-2/Consultadd_Python_Exercise_2.ipynb\" target=\"_parent\"><img src=\"https://colab.research.google.com/assets/colab-badge.svg\" alt=\"Open In Colab\"/></a>"
      ]
    },
    {
      "cell_type": "markdown",
      "metadata": {
        "id": "t31h-z__Q68V"
      },
      "source": [
        "Write a function translate() that will translate a text into \"rövarspråket\" (Swedish for \"robber's language\"). That is, double every consonant and place an occurrence of \"o\" in between. For example, translate(\"this is fun\") should return the string \"tothohisos isos fofunon\"."
      ]
    },
    {
      "cell_type": "code",
      "execution_count": null,
      "metadata": {
        "id": "q-QTHF_qQ68r",
        "colab": {
          "base_uri": "https://localhost:8080/"
        },
        "outputId": "44ac0101-13de-4bee-8f43-ff16237c7f31"
      },
      "outputs": [
        {
          "output_type": "stream",
          "name": "stdout",
          "text": [
            "tothohisos isos fofunon\n"
          ]
        }
      ],
      "source": [
        "s='this is fun'\n",
        "def translate(s):\n",
        "  temp=''\n",
        "  for i in s:\n",
        "    if i not in 'aeiouAEIOU ':\n",
        "      temp+=(i+'o'+i)\n",
        "    else:\n",
        "      temp+=i\n",
        "  return temp\n",
        "print(translate(s))"
      ]
    },
    {
      "cell_type": "markdown",
      "metadata": {
        "id": "KkMBWcXhQ68s"
      },
      "source": [
        "Define a function sum() and a function multiply() that sums and multiplies (respectively) all the numbers in a list of numbers. For example, sum([1, 2, 3, 4]) should return 10, and multiply([1, 2, 3, 4]) should return 24"
      ]
    },
    {
      "cell_type": "code",
      "execution_count": null,
      "metadata": {
        "id": "p3J_QtnJQ68t",
        "colab": {
          "base_uri": "https://localhost:8080/"
        },
        "outputId": "9c319c97-dac1-441d-b0e8-90beb472faf3"
      },
      "outputs": [
        {
          "output_type": "stream",
          "name": "stdout",
          "text": [
            "10 24\n"
          ]
        }
      ],
      "source": [
        "def sum(lst):\n",
        "  ans=0\n",
        "  for i in lst:\n",
        "    ans+=i\n",
        "  return ans\n",
        "def multiply(lst):\n",
        "  ans=1\n",
        "  for i in lst:\n",
        "    ans*=i\n",
        "  return ans\n",
        "lst=[1,2,3,4]\n",
        "print(sum(lst),multiply(lst))"
      ]
    },
    {
      "cell_type": "markdown",
      "metadata": {
        "id": "zWxP66xYQ68t"
      },
      "source": [
        "**Define a function reverse() that computes the reversal of a string. For example, reverse(\"I am testing\") should return the string \"gnitset ma I**"
      ]
    },
    {
      "cell_type": "code",
      "execution_count": null,
      "metadata": {
        "id": "PzOr-JvaQ68u",
        "colab": {
          "base_uri": "https://localhost:8080/"
        },
        "outputId": "280fa7a8-524c-47bc-c27a-0bee6ea601a9"
      },
      "outputs": [
        {
          "output_type": "stream",
          "name": "stdout",
          "text": [
            "True\n"
          ]
        }
      ],
      "source": [
        "def reverse(s):\n",
        "  return s[::-1]\n",
        "print(reverse('I am testing'))"
      ]
    },
    {
      "cell_type": "markdown",
      "metadata": {
        "id": "Uc60Jq8iQ68u"
      },
      "source": [
        "**Define a function is_palindrome() that recognizes palindromes (i.e. words that look the same written backwards). For example, is_palindrome(\"radar\") should return True.**"
      ]
    },
    {
      "cell_type": "code",
      "execution_count": null,
      "metadata": {
        "id": "wIADa4DuQ68v",
        "colab": {
          "base_uri": "https://localhost:8080/"
        },
        "outputId": "86759047-9b84-4137-8f4e-8a36c0f7bb16"
      },
      "outputs": [
        {
          "output_type": "stream",
          "name": "stdout",
          "text": [
            "True\n"
          ]
        }
      ],
      "source": [
        "def is_palindrome(s):\n",
        "  return s==s[::-1]\n",
        "print(is_palindrome('radar'))"
      ]
    },
    {
      "cell_type": "markdown",
      "metadata": {
        "id": "Hm8KyhLSQ68v"
      },
      "source": [
        "**Write a function is_member() that takes a value (i.e. a number, string, etc) x and a list of values a, and returns True if x is a member of a, False otherwise.**"
      ]
    },
    {
      "cell_type": "code",
      "execution_count": null,
      "metadata": {
        "id": "9XfkzhAfQ68w",
        "colab": {
          "base_uri": "https://localhost:8080/"
        },
        "outputId": "abf13dcc-bc74-4d36-b762-30ccc375a304"
      },
      "outputs": [
        {
          "output_type": "stream",
          "name": "stdout",
          "text": [
            "True\n",
            "False\n"
          ]
        }
      ],
      "source": [
        "def is_member(x,a):\n",
        "  return x in a\n",
        "a=[1,2,'abc',5,7,'q',5.6]\n",
        "x=7\n",
        "print(is_member(x,a))\n",
        "x=30\n",
        "print(is_member(x,a))"
      ]
    },
    {
      "cell_type": "markdown",
      "metadata": {
        "id": "cVAHbO0aQ68w"
      },
      "source": [
        "**Define a function overlapping() that takes two lists and returns True if they have at least one member in common, False otherwise. You may use your is_member() function, or the in operator, but for the sake of the exercise, you should (also) write it using two nested for-loops.**"
      ]
    },
    {
      "cell_type": "code",
      "execution_count": null,
      "metadata": {
        "id": "PYYrRJ2yQ68w",
        "colab": {
          "base_uri": "https://localhost:8080/"
        },
        "outputId": "1ee2744f-3f08-46ff-b3d7-b135c67baad6"
      },
      "outputs": [
        {
          "output_type": "stream",
          "name": "stdout",
          "text": [
            "False\n",
            "False\n"
          ]
        }
      ],
      "source": [
        "def overlapping_loop(lst1,lst2):\n",
        "  for i in lst1:\n",
        "    for j in lst2:\n",
        "      if i==j:\n",
        "        return True\n",
        "  return False\n",
        "def overlapping(lst1,lst2):\n",
        "  for i in lst1:\n",
        "    if i in lst2:\n",
        "      return True\n",
        "  return False\n",
        "lst1=[1,2,3]\n",
        "lst2=[4,5,6]\n",
        "print(overlapping_loop(lst1,lst2))\n",
        "print(overlapping(lst1,lst2))\n"
      ]
    },
    {
      "cell_type": "markdown",
      "metadata": {
        "id": "9ferHScuQ68z"
      },
      "source": [
        "# *Define a procedure histogram() that takes a list of integers and prints a histogram to the screen. For example, histogram([4, 9, 7]) should print the following:*(click on next cell to see)\n"
      ]
    },
    {
      "cell_type": "markdown",
      "metadata": {
        "id": "pGqkTltWQ680"
      },
      "source": [
        "\n",
        "****\n",
        "*********\n",
        "*******"
      ]
    },
    {
      "cell_type": "code",
      "execution_count": null,
      "metadata": {
        "id": "OvWQ0AdTQ680"
      },
      "outputs": [],
      "source": [
        "def histogram(lst):\n",
        "  for i in lst:\n",
        "    print(i*'*')"
      ]
    },
    {
      "cell_type": "code",
      "execution_count": null,
      "metadata": {
        "id": "9XP9PLXwQ681",
        "outputId": "3b984a3f-8811-4e9e-e92b-5071994c20aa",
        "colab": {
          "base_uri": "https://localhost:8080/"
        }
      },
      "outputs": [
        {
          "output_type": "stream",
          "name": "stdout",
          "text": [
            "****\n",
            "*********\n",
            "*******\n"
          ]
        }
      ],
      "source": [
        "histogram([4,9,7])"
      ]
    },
    {
      "cell_type": "markdown",
      "metadata": {
        "id": "U4-7gBT_Q681"
      },
      "source": [
        "**Write a function char_freq() that takes a string and builds a frequency listing of the characters contained in it. Represent the frequency listing as a Python dictionary. Try it with something like char_freq(\"abbabcbdbabdbdbabababcbcbab\").**\n",
        "\n"
      ]
    },
    {
      "cell_type": "code",
      "execution_count": null,
      "metadata": {
        "id": "X7eG-hLIQ681"
      },
      "outputs": [],
      "source": [
        "def char_freq(s):\n",
        "  freq={}\n",
        "  for i in s:\n",
        "    if i in freq:\n",
        "      freq[i]+=1\n",
        "    else:\n",
        "      freq[i]=1\n",
        "  return freq"
      ]
    },
    {
      "cell_type": "code",
      "execution_count": null,
      "metadata": {
        "id": "j9k6dripQ682",
        "outputId": "813fd012-f24b-4e33-b77b-a09f3d43de67",
        "colab": {
          "base_uri": "https://localhost:8080/"
        }
      },
      "outputs": [
        {
          "output_type": "execute_result",
          "data": {
            "text/plain": [
              "{'a': 7, 'b': 14, 'c': 3, 'd': 3}"
            ]
          },
          "metadata": {},
          "execution_count": 23
        }
      ],
      "source": [
        "char_freq(\"abbabcbdbabdbdbabababcbcbab\")"
      ]
    },
    {
      "cell_type": "markdown",
      "metadata": {
        "id": "0U9KXUc1Q683"
      },
      "source": [
        "A certain childrens game involves starting with a word in a particular category. Each participant in turn says a word, but that word must begin with the final letter of the previous word. Once a word has been given, it cannot be repeated. If an opponent cannot give a word in the category, they fall out of the game. For example, with \"animals\" as the category,\n",
        "Child 1: dog \n",
        "Child 2: goldfish\n",
        "Child 1: hippopotamus\n",
        "Child 2: snake\n",
        "...\n",
        "Your task in this exercise is as follows: Take the following selection of 70 English Pokemon names (extracted from Wikipedia's list of Pokemon) and generate the/a sequence with the highest possible number of Pokemon names where the subsequent name starts with the final letter of the preceding name. No Pokemon name is to be repeated.\n",
        "**audino bagon baltoy banette bidoof braviary bronzor carracosta charmeleon\n",
        "cresselia croagunk darmanitan deino emboar emolga exeggcute gabite\n",
        "girafarig gulpin haxorus heatmor heatran ivysaur jellicent jumpluff kangaskhan\n",
        "kricketune landorus ledyba loudred lumineon lunatone machamp magnezone mamoswine\n",
        "nosepass petilil pidgeotto pikachu pinsir poliwrath poochyena porygon2\n",
        "porygonz registeel relicanth remoraid rufflet sableye scolipede scrafty seaking\n",
        "sealeo silcoon simisear snivy snorlax spoink starly tirtouga trapinch treecko\n",
        "tyrogue vigoroth vulpix wailord wartortle whismur wingull yamask**\n",
        "\n"
      ]
    },
    {
      "cell_type": "code",
      "execution_count": 2,
      "metadata": {
        "id": "MBRfmLpRQ683",
        "colab": {
          "base_uri": "https://localhost:8080/"
        },
        "outputId": "91db0d53-33ed-4235-ac54-9439c673642d"
      },
      "outputs": [
        {
          "output_type": "stream",
          "name": "stdout",
          "text": [
            "['baltoy', 'yamask', 'kangaskhan', 'nosepass', 'sableye', 'emboar', 'registeel', 'landorus', 'scolipede', 'emolga', 'audino']\n"
          ]
        }
      ],
      "source": [
        "def poke_names():\n",
        "\tdata='audino bagon baltoy banette bidoof braviary bronzor carracosta charmeleon cresselia croagunk darmanitan deino emboar emolga exeggcute gabite girafarig gulpin haxorus heatmor heatran ivysaur jellicent jumpluff kangaskhan kricketune landorus ledyba loudred lumineon lunatone machamp magnezone mamoswine nosepass petilil pidgeotto pikachu pinsir poliwrath poochyena porygon2 porygonz registeel relicanth remoraid rufflet sableye scolipede scrafty seaking sealeo silcoon simisear snivy snorlax spoink starly tirtouga trapinch treecko tyrogue vigoroth vulpix wailord wartortle whismur wingull yamask'\n",
        "\tnames=data.split()\n",
        "\tlongest_series, current_series = [], []\n",
        "\tdef name_starts_with(lastletter, names):\n",
        "\t\tfor index, name in enumerate(names):\n",
        "\t\t\tif name.startswith(lastletter):\n",
        "\t\t\t\treturn index\n",
        "\t\treturn False\n",
        "\tfor name in names:\n",
        "\t\tcurrent_name = name\n",
        "\t\tcurrent_series.append(current_name)\n",
        "\t\tnamelist = names[:]\n",
        "\t\tnamelist.pop(namelist.index(current_name))\n",
        "\t\tindex = name_starts_with(current_name[-1], namelist)\n",
        "\t\twhile index is not False:\n",
        "\t\t\tcurrent_name = namelist[index] \n",
        "\t\t\tcurrent_series.append(current_name) \n",
        "\t\t\tnamelist.pop(index) \n",
        "\t\t\tindex = name_starts_with(current_name[-1], namelist)\n",
        "\t\tif len(current_series) > len(longest_series):\n",
        "\t\t\tlongest_series = current_series\n",
        "\t\tcurrent_series = []\n",
        "\tprint(longest_series)\n",
        "poke_names()"
      ]
    },
    {
      "cell_type": "markdown",
      "metadata": {
        "id": "W10snT9AQ684"
      },
      "source": [
        "**Write a program able to play the \"Guess the number\"-game, where the number to be guessed is randomly chosen between 1 and 20. (Source: http://inventwithpython.com) This is how it should work when run in a terminal:\n",
        "\n",
        "Hello! What is your name?\n",
        "Torbjörn\n",
        "Well, Torbjörn, I am thinking of a number between 1 and 20.\n",
        "Take a guess.\n",
        "10\n",
        "Your guess is too low.\n",
        "Take a guess.\n",
        "15\n",
        "Your guess is too low.\n",
        "Take a guess.\n",
        "18\n",
        "Good job, Torbjörn! You guessed my number in 3 guesses!***"
      ]
    },
    {
      "cell_type": "code",
      "execution_count": null,
      "metadata": {
        "id": "G9fXJqLEQ685",
        "outputId": "97e3b400-cd89-4438-db60-6330cd03bc01",
        "colab": {
          "base_uri": "https://localhost:8080/"
        }
      },
      "outputs": [
        {
          "output_type": "stream",
          "name": "stdout",
          "text": [
            "Hello! What is your name?vishesh\n",
            "Well, vishesh, I am thinking of a number between 1 and 20.\n",
            "Take a guess: 10\n",
            "10 Your guess is too high.\n",
            "Take a guess: 5\n",
            "5 Your guess is too low.\n",
            "Take a guess: 7\n",
            "7 Your guess is too low.\n"
          ]
        }
      ],
      "source": [
        "import random\n",
        "random_number=random.randint(1, 20)\n",
        "times=0\n",
        "name=input('Hello! What is your name?')\n",
        "print('Well, {}, I am thinking of a number between 1 and 20.'.format(name))\n",
        "while times<3:\n",
        "  times+=1\n",
        "  guess=int(input('Take a guess: '))\n",
        "  if guess==random_number:\n",
        "    print('Good job, {}! You guessed my number in {} guesses!'.format(name,times))\n",
        "    break\n",
        "  elif guess>random_number:\n",
        "    print('{} Your guess is too high.'.format(guess))\n",
        "  else:\n",
        "    print('{} Your guess is too low.'.format(guess))"
      ]
    },
    {
      "cell_type": "markdown",
      "metadata": {
        "id": "2dtz8ybYQ685"
      },
      "source": [
        "***Write a program that maps a list of words into a list of integers representing the lengths of the correponding words.***\n"
      ]
    },
    {
      "cell_type": "code",
      "source": [
        "def map_int(lst):\n",
        "  op=[]\n",
        "  for i in range(len(lst)):\n",
        "    op.append(len(lst[i]))\n",
        "  return op"
      ],
      "metadata": {
        "id": "8DRK-Pfk2XRP"
      },
      "execution_count": null,
      "outputs": []
    },
    {
      "cell_type": "code",
      "execution_count": null,
      "metadata": {
        "id": "qmYAwDGRQ685",
        "outputId": "619fb5d9-73be-47d1-999d-91602f7818fe",
        "colab": {
          "base_uri": "https://localhost:8080/"
        }
      },
      "outputs": [
        {
          "output_type": "stream",
          "name": "stdout",
          "text": [
            "[2, 3, 4, 7]\n"
          ]
        }
      ],
      "source": [
        "print(map_int(['te','tes','test','testing']))"
      ]
    }
  ],
  "metadata": {
    "kernelspec": {
      "display_name": "Python 3",
      "language": "python",
      "name": "python3"
    },
    "language_info": {
      "codemirror_mode": {
        "name": "ipython",
        "version": 3
      },
      "file_extension": ".py",
      "mimetype": "text/x-python",
      "name": "python",
      "nbconvert_exporter": "python",
      "pygments_lexer": "ipython3",
      "version": "3.9.1"
    },
    "colab": {
      "provenance": [],
      "include_colab_link": true
    }
  },
  "nbformat": 4,
  "nbformat_minor": 0
}